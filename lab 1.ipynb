{
  "nbformat": 4,
  "nbformat_minor": 0,
  "metadata": {
    "colab": {
      "name": "Untitled2.ipynb",
      "provenance": [],
      "authorship_tag": "ABX9TyMuxknjOtXqvxoKu332s7rk",
      "include_colab_link": true
    },
    "kernelspec": {
      "name": "python3",
      "display_name": "Python 3"
    }
  },
  "cells": [
    {
      "cell_type": "markdown",
      "metadata": {
        "id": "view-in-github",
        "colab_type": "text"
      },
      "source": [
        "<a href=\"https://colab.research.google.com/github/yakhubov/Labs-algoritms/blob/master/lab%201.ipynb\" target=\"_parent\"><img src=\"https://colab.research.google.com/assets/colab-badge.svg\" alt=\"Open In Colab\"/></a>"
      ]
    },
    {
      "cell_type": "code",
      "metadata": {
        "id": "xFAgsz6Rafut",
        "colab_type": "code",
        "colab": {}
      },
      "source": [
        "import math"
      ],
      "execution_count": 0,
      "outputs": []
    },
    {
      "cell_type": "code",
      "metadata": {
        "id": "p-yJzXUfaTrT",
        "colab_type": "code",
        "colab": {
          "base_uri": "https://localhost:8080/",
          "height": 68
        },
        "outputId": "3d6f2a56-0eda-443f-8f29-1afe08dc821f"
      },
      "source": [
        "a = float (input(\"Введите \"))\n",
        "z1 = math.cos(a)+math.sin(a)+3*math.cos(a)+3*math.sin(a)\n",
        "z2 = 1/4-1/4*math.sin(5/2*3.14-8*a)\n",
        "print(z1)\n",
        "print(z2)"
      ],
      "execution_count": 11,
      "outputs": [
        {
          "output_type": "stream",
          "text": [
            "Введите 55\n",
            "-3.9105136683866566\n",
            "0.004084413128848691\n"
          ],
          "name": "stdout"
        }
      ]
    }
  ]
}