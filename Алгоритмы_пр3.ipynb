{
  "nbformat": 4,
  "nbformat_minor": 0,
  "metadata": {
    "colab": {
      "name": "Алгоритмы пр3.ipynb",
      "provenance": [],
      "authorship_tag": "ABX9TyP6VVBOeQX5gNcftjiIEvRJ",
      "include_colab_link": true
    },
    "kernelspec": {
      "name": "python3",
      "display_name": "Python 3"
    }
  },
  "cells": [
    {
      "cell_type": "markdown",
      "metadata": {
        "id": "view-in-github",
        "colab_type": "text"
      },
      "source": [
        "<a href=\"https://colab.research.google.com/github/yakhubov/Labs-algoritms/blob/master/%D0%90%D0%BB%D0%B3%D0%BE%D1%80%D0%B8%D1%82%D0%BC%D1%8B_%D0%BF%D1%803.ipynb\" target=\"_parent\"><img src=\"https://colab.research.google.com/assets/colab-badge.svg\" alt=\"Open In Colab\"/></a>"
      ]
    },
    {
      "cell_type": "code",
      "metadata": {
        "id": "pKS8AudXS0xc",
        "colab_type": "code",
        "colab": {}
      },
      "source": [
        "from dataclasses import dataclass\n",
        "\n",
        "\n",
        "@dataclass\n",
        "class TInfo:\n",
        "    name: str = ''\n",
        "    family: str = ''\n",
        "    phone: str = ''\n",
        "\n",
        "\n",
        "@dataclass\n",
        "class SubCell:\n",
        "    info: TInfo = TInfo(name='', family='', phone='')\n",
        "\n",
        "\n",
        "class ChainHashTable:\n",
        "\n",
        "    def __init__(self, table_size = 100):\n",
        "        self.table_size = table_size\n",
        "        self.info = TInfo()\n",
        "        self.hash_table = [[SubCell(self.info)] for _ in range(self.table_size)]\n",
        "        self.step = 1\n",
        "\n",
        "    def __hash_func(self, value):\n",
        "        result = 0\n",
        "        for i in value:\n",
        "            result += ord(i)\n",
        "            result %= self.table_size\n",
        "        return result\n",
        "\n",
        "    def add_item(self, info:TInfo):\n",
        "        adr = self.__hash_func(info.phone)\n",
        "        i = len(self.hash_table[adr]) - 1\n",
        "        self.hash_table[adr][i] = SubCell(info=info)\n",
        "        self.hash_table[adr].append(SubCell(info=TInfo()))\n",
        "\n",
        "    def del_item(self, info):\n",
        "        adr = self.__hash_func(info.phone)\n",
        "        i = 0\n",
        "        while self.hash_table[adr][i].info != info:\n",
        "            i+=1\n",
        "        del self.hash_table[adr][i]\n",
        "\n",
        "    def find_item(self, info):\n",
        "        adr = self.__hash_func(info.phone)\n",
        "        i = 0\n",
        "        while self.hash_table[adr][i].info != info:\n",
        "            i += 1\n",
        "        return adr, i\n",
        "\n",
        "    def __str__(self):\n",
        "        out = \"{:<6}{:<1}{:<6}{:<20}{:<20}{:<20}\".format(\"N\", \"/\", \"N\", \"NAME\", \"FAMILY\", \"PHONE\")\n",
        "        for i in range(self.table_size):\n",
        "            for j in range(len(self.hash_table[i])):\n",
        "                name: str = self.hash_table[i][j].info.name\n",
        "                family = self.hash_table[i][j].info.family\n",
        "                phone = self.hash_table[i][j].info.phone\n",
        "                out += \"{:<6}{:<1}{:<6}{:<20}{:<20}{:<20}\".format(i + 1, '.', j+1, name, family, phone)\n",
        "        return out"
      ],
      "execution_count": null,
      "outputs": []
    }
  ]
}